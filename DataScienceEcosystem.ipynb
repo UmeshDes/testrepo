{
 "cells": [
  {
   "cell_type": "code",
   "execution_count": null,
   "metadata": {
    "tags": []
   },
   "outputs": [],
   "source": [
    "# Data Science Tools and Ecosystem\n",
    "## In this notebook, Data Science Tools and Ecosystem are summarized.\n",
    "## Objectives:\n",
    "#### Objectives of this assignment is to learn what is Data science, what are the languages and tools used by Data scientists. Also understand basics of tools used e.g. Tensorflow, Scikit-learn, Pandas etc.\n",
    "### Some of the popular languages that Data Scientists use are:\n",
    "- Python\n",
    "- R\n",
    "- Julia\n",
    "\n",
    "\n",
    "### Some of the commonly used libraries used by Data Scientists include:\n",
    "<ol>\n",
    "<li>Matplotlib</li>\n",
    "<li>Scikit-learn</li>\n",
    "<li>Keras</li>\n",
    "<li>TensorFlow</li>\n",
    "<li>Pandas</li>\n",
    "<li>SciPy</li>\n",
    "</ol>\n",
    "\n",
    "### Data Science Tools\n",
    "#### Some of the tools used in Data Science are listed below:  \n",
    "|Sr No|Name|\n",
    "| -------- | ------- |\n",
    "|1|Apache Spark|\n",
    "|2|Weka|\n",
    "|3|Java-ML|\n",
    "|4|MLlib|\n",
    "|5|Numpy|\n",
    "|6|PyTorch|\n",
    "\n",
    "### Below are a few examples of evaluating arithmetic expressions in Python\n",
    "#### This a simple arithmetic expression to mutiply then add integers.\n"
   ]
  },
  {
   "cell_type": "code",
   "execution_count": null,
   "metadata": {
    "tags": []
   },
   "outputs": [],
   "source": [
    "(3*4)+5"
   ]
  },
  {
   "cell_type": "markdown",
   "metadata": {},
   "source": [
    "#### This will convert 200 minutes to hours by diving by 60"
   ]
  },
  {
   "cell_type": "code",
   "execution_count": 13,
   "metadata": {
    "tags": []
   },
   "outputs": [
    {
     "name": "stdout",
     "output_type": "stream",
     "text": [
      "200 minutes coverted to 3.3333333333333335 hours\n"
     ]
    }
   ],
   "source": [
    "mins=200\n",
    "hrs=mins/60\n",
    "print(str(mins) + ' minutes coverted to ' + str(hrs) + ' hours')"
   ]
  },
  {
   "cell_type": "markdown",
   "metadata": {},
   "source": [
    "## Author\n",
    "Umesh Deshmukh"
   ]
  },
  {
   "cell_type": "code",
   "execution_count": null,
   "metadata": {},
   "outputs": [],
   "source": []
  }
 ],
 "metadata": {
  "kernelspec": {
   "display_name": "Python",
   "language": "python",
   "name": "conda-env-python-py"
  },
  "language_info": {
   "codemirror_mode": {
    "name": "ipython",
    "version": 3
   },
   "file_extension": ".py",
   "mimetype": "text/x-python",
   "name": "python",
   "nbconvert_exporter": "python",
   "pygments_lexer": "ipython3",
   "version": "3.7.12"
  }
 },
 "nbformat": 4,
 "nbformat_minor": 4
}
